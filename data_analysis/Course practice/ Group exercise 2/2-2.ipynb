{
 "cells": [
  {
   "cell_type": "markdown",
   "metadata": {},
   "source": [
    "2.2. [15 pts]\n",
    "We can see that there is a class imbalance problem with the outcome/target\n",
    "(HeartDiseaseorAttack). We understand that adjusting predicted class\n",
    "probability cutoff may help predict the rare cases. What is the optimal cutoff\n",
    "value based on Youden's J index? Please also report your model True Positive\n",
    "Rates (Sensitivities) with different cutoff values (0.5 and the “optimal” value)."
   ]
  },
  {
   "cell_type": "code",
   "execution_count": null,
   "metadata": {},
   "outputs": [],
   "source": [
    "import numpy as np\n",
    "from sklearn.metrics import roc_curve\n",
    "\n",
    "# 假設 y_test 和 y_test_pred_prob 已從前面模型中定義好\n",
    "# 計算 ROC 曲線\n",
    "fpr, tpr, cutoff = roc_curve(y_test, y_test_pred_prob)\n",
    "\n",
    "# 計算Youden's J index 去找 optimal cutoff\n",
    "youden_j = tpr - fpr\n",
    "optimal_idx = np.argmax(youden_j)\n",
    "optimal_cutoff = cutoff[optimal_idx]\n",
    "\n",
    "# 找到 True Positive Rate 中預設的cutoff值 -> 0.5 \n",
    "closest_05_idx = np.abs(cutoff - 0.5).argmin()\n",
    "tpr_05 = tpr[closest_05_idx]\n",
    "\n",
    "# True Positive Rate at the optimal cutoff\n",
    "tpr_optimal = tpr[optimal_idx]\n",
    "\n",
    "print(\"Optimal Cutoff based on Youden's J index:\", optimal_cutoff)\n",
    "print(\"True Positive Rate at Cutoff 0.5:\", tpr_05)\n",
    "print(\"True Positive Rate at Optimal Cutoff:\", tpr_optimal)"
   ]
  }
 ],
 "metadata": {
  "language_info": {
   "name": "python"
  }
 },
 "nbformat": 4,
 "nbformat_minor": 2
}
