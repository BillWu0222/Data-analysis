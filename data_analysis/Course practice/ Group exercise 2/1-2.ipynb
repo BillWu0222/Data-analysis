{
 "cells": [
  {
   "cell_type": "markdown",
   "metadata": {},
   "source": [
    "1.2. [10 pts]\n",
    "Here we consider the first period grade (G1) as the outcome/target. Please\n",
    "draw the density plot of G1 and perform normality tests to check if it is\n",
    "approximately normally distributed. Then, perform a proper bivariate test to\n",
    "check whether sex is associated with G1 (the significant level is 0.05). "
   ]
  },
  {
   "cell_type": "code",
   "execution_count": null,
   "metadata": {},
   "outputs": [],
   "source": [
    "import matplotlib.pyplot as plt\n",
    "import seaborn as sns\n",
    "import pandas as pd\n",
    "from scipy.stats import shapiro, ttest_ind\n",
    "\n",
    "# Load the dataset from the CSV file\n",
    "data = pd.read_csv('student-por.csv')\n",
    "\n",
    "# Draw the density plot of G1\n",
    "plt.figure(figsize=(8, 4))\n",
    "sns.distplot(data['G1'], kde=True, hist=True)\n",
    "plt.title('Density Plot of First Period Grade (G1)')\n",
    "plt.xlabel('Grade (G1)')\n",
    "plt.ylabel('Density')\n",
    "plt.show()"
   ]
  },
  {
   "cell_type": "code",
   "execution_count": null,
   "metadata": {},
   "outputs": [],
   "source": [
    "from scipy.stats import shapiro\n",
    "\n",
    "# Perform the Shapiro-Wilk test for normality on the 'G1' column\n",
    "shapiro_test_result = shapiro(data['G1'])\n",
    "shapiro_p_value = shapiro_test_result.pvalue\n",
    "\n",
    "# Print the p-value\n",
    "print(f\"Shapiro-Wilk Test P-Value: {shapiro_p_value}\")\n",
    "\n",
    "# Determine and print if G1 is normally distributed\n",
    "if shapiro_p_value > 0.05:\n",
    "    print(\"The G1 data is approximately normally distributed.\")\n",
    "else:\n",
    "    print(\"The G1 data is not approximately normally distributed.\")"
   ]
  },
  {
   "cell_type": "code",
   "execution_count": null,
   "metadata": {},
   "outputs": [],
   "source": [
    "from scipy.stats import pearsonr\n",
    "\n",
    "data_cleaned['sex_encoded'] = data_cleaned['sex'].apply(lambda x: 0 if x == 'M' else 1)\n",
    "\n",
    "# Calculate the Pearson's correlation coefficient between sex and G1\n",
    "pearson_correlation, pearson_p_value = pearsonr(data_cleaned['sex_encoded'], data_cleaned['G1'])\n",
    "\n",
    "print(f\"Pearson's Correlation Coefficient: {pearson_correlation}\")\n",
    "print(f\"P-Value for Pearson's Correlation: {pearson_p_value}\")\n",
    "\n",
    "# Check if the correlation is significant\n",
    "significant_level = 0.05\n",
    "if pearson_p_value < significant_level:\n",
    "    print(\"The Pearson correlation between sex and G1 is significant.\")\n",
    "else:\n",
    "    print(\"The Pearson correlation between sex and G1 is not significant.\")"
   ]
  }
 ],
 "metadata": {
  "language_info": {
   "name": "python"
  }
 },
 "nbformat": 4,
 "nbformat_minor": 2
}
